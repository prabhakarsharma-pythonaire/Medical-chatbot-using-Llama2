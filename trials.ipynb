print("Ok")

from langchain import PromptTemplate
from langchain.chains import RetrievalQA
from langchain.embeddings import HuggingFaceEmbeddings
from langchain.vectorstores import Pinecone
import pinecone
from langchain.document_loaders import PyPDFLoader,DirectoryLoader
from langchain.text_splitter import RecursiveCharacterTextSplitter
from langchain.prompts import PromptTemplate
from langchain.llms import CTransformers


PINECONE_API_KEY = "00c69ec0-2ec0-43a4-9b98-9f5a093d6ea4"
PINECONE_API_ENV = "gcp-started"

def load_data(data):
   loader = DirectoryLoader(data,
                    glob = "*.pdf",
                    loader_cls=PyPDFLoader)
   documents = loader.load()